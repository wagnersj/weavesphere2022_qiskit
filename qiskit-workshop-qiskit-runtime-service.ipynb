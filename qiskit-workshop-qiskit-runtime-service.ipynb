{
 "cells": [
  {
   "cell_type": "markdown",
   "id": "052556b0-cb60-4bbc-8ef8-28696ff5ed70",
   "metadata": {},
   "source": [
    "# Qiskit Workshop: Qiskit Runtime Service"
   ]
  },
  {
   "cell_type": "code",
   "execution_count": 1,
   "id": "9827f5bd-ed60-477f-a6d5-54d7af08ffd0",
   "metadata": {},
   "outputs": [
    {
     "name": "stderr",
     "output_type": "stream",
     "text": [
      "<frozen importlib._bootstrap>:219: RuntimeWarning: scipy._lib.messagestream.MessageStream size changed, may indicate binary incompatibility. Expected 56 from C header, got 64 from PyObject\n"
     ]
    }
   ],
   "source": [
    "import numpy as np\n",
    "\n",
    "# Importing standard Qiskit libraries\n",
    "from qiskit import QuantumCircuit, transpile, Aer, IBMQ\n",
    "from qiskit.tools.jupyter import *\n",
    "from qiskit.visualization import *\n",
    "from ibm_quantum_widgets import *\n",
    "from qiskit.providers.aer import QasmSimulator\n",
    "\n",
    "# Loading your IBM Quantum account(s)\n",
    "provider = IBMQ.load_account()"
   ]
  },
  {
   "cell_type": "code",
   "execution_count": 2,
   "id": "2ae3a735-3fad-4d98-b7cc-f36cceb5c626",
   "metadata": {},
   "outputs": [],
   "source": [
    "from qiskit_ibm_runtime import QiskitRuntimeService"
   ]
  },
  {
   "cell_type": "code",
   "execution_count": null,
   "id": "0029539c-f460-494c-a7a6-56d040a036a2",
   "metadata": {},
   "outputs": [],
   "source": [
    "# Save Qiskit Runtime Service credentials\n",
    "\n",
    "QiskitRuntimeService.save_account(\n",
    "    channel='ibm_cloud',\n",
    "    token='<my ibm cloud api token>',\n",
    "    instance='<my crn>',\n",
    "    overwrite=True\n",
    ")"
   ]
  },
  {
   "cell_type": "code",
   "execution_count": 3,
   "id": "0d878f43-abff-491c-a5c4-f08bb2be15c5",
   "metadata": {},
   "outputs": [
    {
     "data": {
      "text/plain": [
       "[<RuntimeProgram('qasm3-runner')>,\n",
       " <RuntimeProgram('vqc-trainer-YqZ2835Jeq')>,\n",
       " <RuntimeProgram('hello-world')>,\n",
       " <RuntimeProgram('sampler')>,\n",
       " <RuntimeProgram('estimator')>]"
      ]
     },
     "execution_count": 3,
     "metadata": {},
     "output_type": "execute_result"
    }
   ],
   "source": [
    "# Instantiate Qiskit Runtime Service and show programs\n",
    "service_ibm_cloud = QiskitRuntimeService(channel='ibm_cloud')\n",
    "service_ibm_cloud.programs()"
   ]
  },
  {
   "cell_type": "code",
   "execution_count": 4,
   "id": "f158af6d-45c6-4485-96f7-adf8b7c4059b",
   "metadata": {},
   "outputs": [
    {
     "data": {
      "text/plain": [
       "[<RuntimeProgram('vqc-trainer-XB4wZPrKdv')>,\n",
       " <RuntimeProgram('hello-world')>,\n",
       " <RuntimeProgram('qaoa')>,\n",
       " <RuntimeProgram('torch-train')>,\n",
       " <RuntimeProgram('torch-infer')>,\n",
       " <RuntimeProgram('qasm3-runner')>,\n",
       " <RuntimeProgram('sampler')>,\n",
       " <RuntimeProgram('estimator')>,\n",
       " <RuntimeProgram('sample-expval')>,\n",
       " <RuntimeProgram('vqe')>,\n",
       " <RuntimeProgram('circuit-runner')>,\n",
       " <RuntimeProgram('sample-program')>,\n",
       " <RuntimeProgram('quantum-kernel-alignment')>]"
      ]
     },
     "execution_count": 4,
     "metadata": {},
     "output_type": "execute_result"
    }
   ],
   "source": [
    "service_ibm_quantum = QiskitRuntimeService(channel='ibm_quantum')\n",
    "service_ibm_quantum.programs()"
   ]
  },
  {
   "cell_type": "code",
   "execution_count": 5,
   "id": "5edbda2e-0551-47f7-bafa-c8a7b724589c",
   "metadata": {},
   "outputs": [],
   "source": [
    "# Choose either the IBM Cloud or IBM Quantum service\n",
    "\n",
    "#service = service_ibm_cloud\n",
    "service = service_ibm_quantum"
   ]
  },
  {
   "cell_type": "markdown",
   "id": "3d336d2e-ac08-41c3-9ce9-6f70bcb0b918",
   "metadata": {
    "tags": []
   },
   "source": [
    "## Basic Programs"
   ]
  },
  {
   "cell_type": "markdown",
   "id": "77fb34fc-18af-45f6-8903-8b58f415835a",
   "metadata": {
    "tags": []
   },
   "source": [
    "### Hello World"
   ]
  },
  {
   "cell_type": "code",
   "execution_count": 6,
   "id": "bdeabb3b-f5a5-4070-ba22-a8ed0a112de9",
   "metadata": {},
   "outputs": [
    {
     "name": "stderr",
     "output_type": "stream",
     "text": [
      "/tmp/ipykernel_258/2307257769.py:4: DeprecationWarning: Note that the 'job_id' and 'backend' attributes of a runtime job have been deprecated as of qiskit-ibm-runtime 0.7 and will be removed no sooner than 3 months after the release date. Please use the job_id() and backend() methods instead.\n",
      "  job = service.run(program_id=\"hello-world\",\n"
     ]
    },
    {
     "name": "stdout",
     "output_type": "stream",
     "text": [
      "job id: cdoj1vdn5kag9im0brn0\n",
      "Hello, World!\n"
     ]
    }
   ],
   "source": [
    "# Execute a program by passing in the name and parameters in a dictionary\n",
    "program_inputs = {'iterations': 1}\n",
    "options = {\"backend_name\": \"ibmq_qasm_simulator\"}\n",
    "job = service.run(program_id=\"hello-world\",\n",
    "                  options=options,\n",
    "                  inputs=program_inputs\n",
    "                 )\n",
    "print(f\"job id: {job.job_id()}\")\n",
    "result = job.result()\n",
    "print(result)"
   ]
  },
  {
   "cell_type": "markdown",
   "id": "52a7b09f-4ce8-494a-9099-c5b9100bebe0",
   "metadata": {
    "tags": []
   },
   "source": [
    "### Sampler"
   ]
  },
  {
   "cell_type": "code",
   "execution_count": 8,
   "id": "60626aba-61b2-4759-9915-af913e7763fe",
   "metadata": {},
   "outputs": [],
   "source": [
    "from qiskit_ibm_runtime import Sampler, Session\n",
    "\n",
    "# Build Bell circuit as test circuit\n",
    "bell = QuantumCircuit(2)\n",
    "bell.h(0)\n",
    "bell.cx(0, 1)\n",
    "bell.measure_all()\n",
    "\n",
    "# Run the circuit using the Sampler class in a Qiskit Runtime Session\n",
    "with Session(service=service, backend='ibmq_qasm_simulator') as session:\n",
    "    sampler = Sampler(session=session)\n",
    "    job = sampler.run(circuits=bell, shots=1024)\n",
    "    result = job.result()"
   ]
  },
  {
   "cell_type": "code",
   "execution_count": 9,
   "id": "dd1f1433-5769-4bb6-996d-ec66286501d5",
   "metadata": {},
   "outputs": [
    {
     "name": "stdout",
     "output_type": "stream",
     "text": [
      "SamplerResult(quasi_dists=[{0: 0.5302734375, 3: 0.4697265625}], metadata=[{'header_metadata': {}, 'shots': 1024, 'readout_mitigation_overhead': 1.0, 'readout_mitigation_time': 0.012999121099710464}])\n"
     ]
    },
    {
     "data": {
      "image/png": "[encoded data removed]",
      "text/plain": [
       "<Figure size 504x360 with 1 Axes>"
      ]
     },
     "execution_count": 9,
     "metadata": {},
     "output_type": "execute_result"
    }
   ],
   "source": [
    "print(result)\n",
    "plot_histogram(result.quasi_dists)"
   ]
  },
  {
   "cell_type": "markdown",
   "id": "2703b4e8-c5ae-4588-b635-a656bbde92d7",
   "metadata": {
    "tags": []
   },
   "source": [
    "### Estimator"
   ]
  },
  {
   "cell_type": "code",
   "execution_count": 13,
   "id": "26a1421d-76e9-44dc-af0b-9dcc703e49c2",
   "metadata": {},
   "outputs": [
    {
     "name": "stdout",
     "output_type": "stream",
     "text": [
      "EstimatorResult(values=array([1.5575]), metadata=[{'variance': 9.00953175, 'shots': 4000, 'readout_mitigation_num_twirled_circuits': 16, 'readout_mitigation_shots_calibration': 8192}])\n"
     ]
    }
   ],
   "source": [
    "from qiskit_ibm_runtime import Estimator, Options\n",
    "from qiskit.circuit.library import RealAmplitudes\n",
    "from qiskit.quantum_info import SparsePauliOp\n",
    "\n",
    "# Create test circuit that has parameterized gates\n",
    "psi1 = RealAmplitudes(num_qubits=2, reps=2)\n",
    "\n",
    "# Create observable\n",
    "H1 = SparsePauliOp.from_list([(\"II\", 1), (\"IZ\", 2), (\"XI\", 3)])\n",
    "\n",
    "# Parameter values for test circuit\n",
    "theta1 = [0, 1, 1, 2, 3, 5]\n",
    "\n",
    "# Set error mitigation and suppression levels\n",
    "options = Options()\n",
    "options.resilience_level = 2\n",
    "options.optimization_level = 3\n",
    "\n",
    "# calculate [ <psi1(theta1)|H1|psi1(theta1)> ]\n",
    "with Session(service=service, backend='ibmq_qasm_simulator') as session:\n",
    "    estimator =  Estimator(session=session)\n",
    "    job = estimator.run(circuits=psi1,\n",
    "                        observables=H1,\n",
    "                        parameter_values=[theta1]\n",
    "                        )\n",
    "    psi1_H1_result = job.result()\n",
    "print(psi1_H1_result)"
   ]
  },
  {
   "cell_type": "code",
   "execution_count": 11,
   "id": "51c44221-fb44-4377-ac84-298c19df2304",
   "metadata": {},
   "outputs": [
    {
     "data": {
      "text/html": [
       "<h3>Version Information</h3><table><tr><th>Qiskit Software</th><th>Version</th></tr><tr><td><code>qiskit-terra</code></td><td>0.22.2</td></tr><tr><td><code>qiskit-aer</code></td><td>0.11.1</td></tr><tr><td><code>qiskit-ibmq-provider</code></td><td>0.19.2</td></tr><tr><td><code>qiskit</code></td><td>0.39.2</td></tr><tr><td><code>qiskit-nature</code></td><td>0.5.0</td></tr><tr><td><code>qiskit-finance</code></td><td>0.3.4</td></tr><tr><td><code>qiskit-optimization</code></td><td>0.4.0</td></tr><tr><td><code>qiskit-machine-learning</code></td><td>0.5.0</td></tr><tr><th>System information</th></tr><tr><td>Python version</td><td>3.8.13</td></tr><tr><td>Python compiler</td><td>GCC 10.3.0</td></tr><tr><td>Python build</td><td>default, Mar 25 2022 06:04:10</td></tr><tr><td>OS</td><td>Linux</td></tr><tr><td>CPUs</td><td>8</td></tr><tr><td>Memory (Gb)</td><td>31.211326599121094</td></tr><tr><td colspan='2'>Sun Nov 13 18:05:54 2022 UTC</td></tr></table>"
      ],
      "text/plain": [
       "<IPython.core.display.HTML object>"
      ]
     },
     "metadata": {},
     "output_type": "display_data"
    }
   ],
   "source": [
    "%qiskit_version_table"
   ]
  },
  {
   "cell_type": "code",
   "execution_count": null,
   "id": "f79b635c-931c-41a4-bfef-3bf702d94985",
   "metadata": {},
   "outputs": [],
   "source": []
  }
 ],
 "metadata": {
  "kernelspec": {
   "display_name": "Python 3 (ipykernel)",
   "language": "python",
   "name": "python3"
  },
  "language_info": {
   "codemirror_mode": {
    "name": "ipython",
    "version": 3
   },
   "file_extension": ".py",
   "mimetype": "text/x-python",
   "name": "python",
   "nbconvert_exporter": "python",
   "pygments_lexer": "ipython3",
   "version": "3.8.13"
  },
  "widgets": {
   "application/vnd.jupyter.widget-state+json": {
    "state": {
     "0493365e157a4fd0bff590d36dc5ba98": {
      "model_module": "@jupyter-widgets/controls",
      "model_module_version": "1.5.0",
      "model_name": "DescriptionStyleModel",
      "state": {
       "description_width": ""
      }
     },
     "1def3b7a0b794efbb037d81ae7a9493d": {
      "model_module": "@jupyter-widgets/controls",
      "model_module_version": "1.5.0",
      "model_name": "DescriptionStyleModel",
      "state": {
       "description_width": ""
      }
     },
     "2225430d7cc1434692f72edc1edf1d88": {
      "model_module": "@jupyter-widgets/controls",
      "model_module_version": "1.5.0",
      "model_name": "DescriptionStyleModel",
      "state": {
       "description_width": ""
      }
     },
     "30db677190924fb1bb58136c654bf107": {
      "model_module": "@jupyter-widgets/controls",
      "model_module_version": "1.5.0",
      "model_name": "HTMLModel",
      "state": {
       "layout": "IPY_MODEL_f6cf14c4eb61409eb97bb261c05f846b",
       "style": "IPY_MODEL_0493365e157a4fd0bff590d36dc5ba98",
       "value": "<h5>Queue</h5>"
      }
     },
     "354fdbae45584c379e43a94b9e455df0": {
      "model_module": "@jupyter-widgets/controls",
      "model_module_version": "1.5.0",
      "model_name": "HTMLModel",
      "state": {
       "layout": "IPY_MODEL_e89d285caf17478fb34a5e979d1945e8",
       "style": "IPY_MODEL_2225430d7cc1434692f72edc1edf1d88",
       "value": "<p style='font-family: IBM Plex Sans, Arial, Helvetica, sans-serif; font-size: 20px; font-weight: medium;'>Circuit Properties</p>"
      }
     },
     "3766f91d9a914166bb9c7f46e0adaedd": {
      "model_module": "@jupyter-widgets/controls",
      "model_module_version": "1.5.0",
      "model_name": "HBoxModel",
      "state": {
       "children": [
        "IPY_MODEL_45f5572ce9a84d6982d24dbe548c035e",
        "IPY_MODEL_c4b624164909483b8a266cee813d2f21",
        "IPY_MODEL_a5cb4b4f8e944da4af880d9c391b4088",
        "IPY_MODEL_30db677190924fb1bb58136c654bf107",
        "IPY_MODEL_fa85108957fe4431aac936e9976ba5da"
       ],
       "layout": "IPY_MODEL_46503ce88eef49a5af74bb955d876e60"
      }
     },
     "3c887f81757e46acbdd346b36972e4da": {
      "model_module": "@jupyter-widgets/base",
      "model_module_version": "1.2.0",
      "model_name": "LayoutModel",
      "state": {}
     },
     "45f5572ce9a84d6982d24dbe548c035e": {
      "model_module": "@jupyter-widgets/controls",
      "model_module_version": "1.5.0",
      "model_name": "HTMLModel",
      "state": {
       "layout": "IPY_MODEL_e320bef6b8de4c8dbe9e64a4550e4592",
       "style": "IPY_MODEL_dd148b8175be4560932da54c76f041ee",
       "value": "<h5>Job ID</h5>"
      }
     },
     "46503ce88eef49a5af74bb955d876e60": {
      "model_module": "@jupyter-widgets/base",
      "model_module_version": "1.2.0",
      "model_name": "LayoutModel",
      "state": {
       "margin": "0px 0px 0px 37px",
       "width": "600px"
      }
     },
     "48668e6073314e5f8ccfbc484d9795e3": {
      "model_module": "@jupyter-widgets/controls",
      "model_module_version": "1.5.0",
      "model_name": "ButtonStyleModel",
      "state": {}
     },
     "4c6b1484017a40908b60647f6d3e4514": {
      "model_module": "@jupyter-widgets/base",
      "model_module_version": "1.2.0",
      "model_name": "LayoutModel",
      "state": {
       "grid_template_areas": "\n                                       \". . . . right \"\n                                        ",
       "grid_template_columns": "20% 20% 20% 20% 20%",
       "width": "100%"
      }
     },
     "50b0410162b440a0aa9f3214adde6483": {
      "model_module": "@jupyter-widgets/base",
      "model_module_version": "1.2.0",
      "model_name": "LayoutModel",
      "state": {
       "width": "145px"
      }
     },
     "519b89e4d3a0426dba4020ba2d993939": {
      "model_module": "@jupyter-widgets/base",
      "model_module_version": "1.2.0",
      "model_name": "LayoutModel",
      "state": {
       "width": "95px"
      }
     },
     "570112345ffb4db5b5c597c3a2d00ea5": {
      "model_module": "@jupyter-widgets/base",
      "model_module_version": "1.2.0",
      "model_name": "LayoutModel",
      "state": {
       "grid_area": "right",
       "padding": "0px 0px 0px 0px",
       "width": "70px"
      }
     },
     "86f1fcf3fa7e4d668fbc175f33206890": {
      "model_module": "@jupyter-widgets/controls",
      "model_module_version": "1.5.0",
      "model_name": "DescriptionStyleModel",
      "state": {
       "description_width": ""
      }
     },
     "a5cb4b4f8e944da4af880d9c391b4088": {
      "model_module": "@jupyter-widgets/controls",
      "model_module_version": "1.5.0",
      "model_name": "HTMLModel",
      "state": {
       "layout": "IPY_MODEL_519b89e4d3a0426dba4020ba2d993939",
       "style": "IPY_MODEL_86f1fcf3fa7e4d668fbc175f33206890",
       "value": "<h5>Status</h5>"
      }
     },
     "c4857d292ae44272961d88d0fe88352d": {
      "model_module": "@jupyter-widgets/controls",
      "model_module_version": "1.5.0",
      "model_name": "ButtonModel",
      "state": {
       "button_style": "primary",
       "description": "Clear",
       "layout": "IPY_MODEL_570112345ffb4db5b5c597c3a2d00ea5",
       "style": "IPY_MODEL_48668e6073314e5f8ccfbc484d9795e3"
      }
     },
     "c4b624164909483b8a266cee813d2f21": {
      "model_module": "@jupyter-widgets/controls",
      "model_module_version": "1.5.0",
      "model_name": "HTMLModel",
      "state": {
       "layout": "IPY_MODEL_50b0410162b440a0aa9f3214adde6483",
       "style": "IPY_MODEL_dd44ca2230864c2dbdd792b6b91172e0",
       "value": "<h5>Backend</h5>"
      }
     },
     "dd148b8175be4560932da54c76f041ee": {
      "model_module": "@jupyter-widgets/controls",
      "model_module_version": "1.5.0",
      "model_name": "DescriptionStyleModel",
      "state": {
       "description_width": ""
      }
     },
     "dd44ca2230864c2dbdd792b6b91172e0": {
      "model_module": "@jupyter-widgets/controls",
      "model_module_version": "1.5.0",
      "model_name": "DescriptionStyleModel",
      "state": {
       "description_width": ""
      }
     },
     "e320bef6b8de4c8dbe9e64a4550e4592": {
      "model_module": "@jupyter-widgets/base",
      "model_module_version": "1.2.0",
      "model_name": "LayoutModel",
      "state": {
       "width": "190px"
      }
     },
     "e89d285caf17478fb34a5e979d1945e8": {
      "model_module": "@jupyter-widgets/base",
      "model_module_version": "1.2.0",
      "model_name": "LayoutModel",
      "state": {
       "margin": "0px 0px 10px 0px"
      }
     },
     "f4378b59367c4c11837902bf1d8b3298": {
      "model_module": "@jupyter-widgets/controls",
      "model_module_version": "1.5.0",
      "model_name": "GridBoxModel",
      "state": {
       "children": [
        "IPY_MODEL_c4857d292ae44272961d88d0fe88352d"
       ],
       "layout": "IPY_MODEL_4c6b1484017a40908b60647f6d3e4514"
      }
     },
     "f6cf14c4eb61409eb97bb261c05f846b": {
      "model_module": "@jupyter-widgets/base",
      "model_module_version": "1.2.0",
      "model_name": "LayoutModel",
      "state": {
       "width": "70px"
      }
     },
     "fa85108957fe4431aac936e9976ba5da": {
      "model_module": "@jupyter-widgets/controls",
      "model_module_version": "1.5.0",
      "model_name": "HTMLModel",
      "state": {
       "layout": "IPY_MODEL_3c887f81757e46acbdd346b36972e4da",
       "style": "IPY_MODEL_1def3b7a0b794efbb037d81ae7a9493d",
       "value": "<h5>Message</h5>"
      }
     }
    },
    "version_major": 2,
    "version_minor": 0
   }
  }
 },
 "nbformat": 4,
 "nbformat_minor": 5
}
